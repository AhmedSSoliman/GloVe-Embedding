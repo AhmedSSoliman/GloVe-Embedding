{
  "nbformat": 4,
  "nbformat_minor": 0,
  "metadata": {
    "colab": {
      "name": "GloVe-Embedding.ipynb",
      "provenance": [],
      "authorship_tag": "ABX9TyMS0tY+w3S6qhQV3LJ3xsrf"
    },
    "kernelspec": {
      "name": "python3",
      "display_name": "Python 3"
    },
    "accelerator": "GPU"
  },
  "cells": [
    {
      "cell_type": "code",
      "metadata": {
        "id": "sUi8-zlHAnVM"
      },
      "source": [
        ""
      ],
      "execution_count": null,
      "outputs": []
    },
    {
      "cell_type": "code",
      "metadata": {
        "colab": {
          "base_uri": "https://localhost:8080/"
        },
        "id": "8TOKFScMx7nT",
        "outputId": "88985192-f1e6-4ab5-a280-957a3e3cf5e9"
      },
      "source": [
        "!pip install sklearn\r\n",
        "!pip install -U gensim"
      ],
      "execution_count": 1,
      "outputs": [
        {
          "output_type": "stream",
          "text": [
            "Requirement already satisfied: sklearn in /usr/local/lib/python3.6/dist-packages (0.0)\n",
            "Requirement already satisfied: scikit-learn in /usr/local/lib/python3.6/dist-packages (from sklearn) (0.22.2.post1)\n",
            "Requirement already satisfied: scipy>=0.17.0 in /usr/local/lib/python3.6/dist-packages (from scikit-learn->sklearn) (1.4.1)\n",
            "Requirement already satisfied: joblib>=0.11 in /usr/local/lib/python3.6/dist-packages (from scikit-learn->sklearn) (1.0.0)\n",
            "Requirement already satisfied: numpy>=1.11.0 in /usr/local/lib/python3.6/dist-packages (from scikit-learn->sklearn) (1.19.5)\n",
            "Collecting gensim\n",
            "\u001b[?25l  Downloading https://files.pythonhosted.org/packages/2b/e0/fa6326251692056dc880a64eb22117e03269906ba55a6864864d24ec8b4e/gensim-3.8.3-cp36-cp36m-manylinux1_x86_64.whl (24.2MB)\n",
            "\u001b[K     |████████████████████████████████| 24.2MB 136kB/s \n",
            "\u001b[?25hRequirement already satisfied, skipping upgrade: numpy>=1.11.3 in /usr/local/lib/python3.6/dist-packages (from gensim) (1.19.5)\n",
            "Requirement already satisfied, skipping upgrade: smart-open>=1.8.1 in /usr/local/lib/python3.6/dist-packages (from gensim) (4.1.0)\n",
            "Requirement already satisfied, skipping upgrade: six>=1.5.0 in /usr/local/lib/python3.6/dist-packages (from gensim) (1.15.0)\n",
            "Requirement already satisfied, skipping upgrade: scipy>=0.18.1 in /usr/local/lib/python3.6/dist-packages (from gensim) (1.4.1)\n",
            "Installing collected packages: gensim\n",
            "  Found existing installation: gensim 3.6.0\n",
            "    Uninstalling gensim-3.6.0:\n",
            "      Successfully uninstalled gensim-3.6.0\n",
            "Successfully installed gensim-3.8.3\n"
          ],
          "name": "stdout"
        }
      ]
    },
    {
      "cell_type": "code",
      "metadata": {
        "id": "8J9NdDWZyWH1"
      },
      "source": [
        "import os\r\n",
        "import numpy as np\r\n",
        "\r\n",
        "import gensim\r\n",
        "from gensim.models import Word2Vec"
      ],
      "execution_count": 2,
      "outputs": []
    },
    {
      "cell_type": "code",
      "metadata": {
        "colab": {
          "base_uri": "https://localhost:8080/"
        },
        "id": "EtHH6p9QzW1T",
        "outputId": "d43fbdd0-27c1-4b61-9999-7c16d92d8555"
      },
      "source": [
        "from google.colab import drive\r\n",
        "drive.mount('/content/drive')"
      ],
      "execution_count": 3,
      "outputs": [
        {
          "output_type": "stream",
          "text": [
            "Mounted at /content/drive\n"
          ],
          "name": "stdout"
        }
      ]
    },
    {
      "cell_type": "code",
      "metadata": {
        "id": "NbaH-HdMzWp6"
      },
      "source": [
        "import os\r\n",
        "os.environ['KAGGLE_CONFIG_DIR'] = \"/content/drive/My Drive/Kaggle\""
      ],
      "execution_count": 4,
      "outputs": []
    },
    {
      "cell_type": "code",
      "metadata": {
        "colab": {
          "base_uri": "https://localhost:8080/"
        },
        "id": "0lwo07qJ0BHZ",
        "outputId": "5761aca2-d6eb-41bd-89ac-f85e30721bfc"
      },
      "source": [
        "#changing the working directory\r\n",
        "%cd /content/drive/My Drive/Kaggle\r\n",
        "\r\n",
        "#Check the present working directory using pwd command"
      ],
      "execution_count": 5,
      "outputs": [
        {
          "output_type": "stream",
          "text": [
            "/content/drive/My Drive/Kaggle\n"
          ],
          "name": "stdout"
        }
      ]
    },
    {
      "cell_type": "code",
      "metadata": {
        "colab": {
          "base_uri": "https://localhost:8080/"
        },
        "id": "TTsy4NSrAtqx",
        "outputId": "9c6318ac-1144-4c8c-bc29-b4512d21ab8d"
      },
      "source": [
        "!kaggle datasets download -d rtatman/glove-global-vectors-for-word-representation"
      ],
      "execution_count": 6,
      "outputs": [
        {
          "output_type": "stream",
          "text": [
            "Downloading glove-global-vectors-for-word-representation.zip to /content/drive/My Drive/Kaggle\n",
            " 99% 454M/458M [00:04<00:00, 107MB/s]\n",
            "100% 458M/458M [00:04<00:00, 104MB/s]\n"
          ],
          "name": "stdout"
        }
      ]
    },
    {
      "cell_type": "code",
      "metadata": {
        "id": "1PltQ7vpBdOW",
        "outputId": "c6a593f2-8531-43fe-a72b-42b5150029c7",
        "colab": {
          "base_uri": "https://localhost:8080/"
        }
      },
      "source": [
        "#unzipping the zip files and deleting the zip files\r\n",
        "!unzip \\*.zip  && rm *.zip"
      ],
      "execution_count": 7,
      "outputs": [
        {
          "output_type": "stream",
          "text": [
            "Archive:  glove-global-vectors-for-word-representation.zip\n",
            "  inflating: glove.6B.100d.txt       \n",
            "  inflating: glove.6B.200d.txt       \n",
            "  inflating: glove.6B.50d.txt        \n"
          ],
          "name": "stdout"
        }
      ]
    },
    {
      "cell_type": "code",
      "metadata": {
        "colab": {
          "base_uri": "https://localhost:8080/"
        },
        "id": "NxaL2Xkry7GY",
        "outputId": "46dd0907-9615-449b-f8b2-84e148ccef0f"
      },
      "source": [
        "!kaggle datasets download -d sandreds/googlenewsvectorsnegative300"
      ],
      "execution_count": 8,
      "outputs": [
        {
          "output_type": "stream",
          "text": [
            "Downloading googlenewsvectorsnegative300.zip to /content/drive/My Drive/Kaggle\n",
            "100% 1.64G/1.64G [00:24<00:00, 49.8MB/s]\n",
            "100% 1.64G/1.64G [00:24<00:00, 73.0MB/s]\n"
          ],
          "name": "stdout"
        }
      ]
    },
    {
      "cell_type": "code",
      "metadata": {
        "colab": {
          "base_uri": "https://localhost:8080/"
        },
        "id": "kFJDTJlC3Ivx",
        "outputId": "d0dff64a-be43-4bec-b222-129a3a12e544"
      },
      "source": [
        "#unzipping the zip files and deleting the zip files\r\n",
        "!unzip \\*.zip  && rm *.zip"
      ],
      "execution_count": 9,
      "outputs": [
        {
          "output_type": "stream",
          "text": [
            "Archive:  googlenewsvectorsnegative300.zip\n",
            "  inflating: GoogleNews-vectors-negative300.bin  \n"
          ],
          "name": "stdout"
        }
      ]
    },
    {
      "cell_type": "code",
      "metadata": {
        "colab": {
          "base_uri": "https://localhost:8080/"
        },
        "id": "0XFwx0p-7TRp",
        "outputId": "b57fe715-782a-44b9-bf76-5821ee68e4ed"
      },
      "source": [
        "#!/usr/bin/env python3\r\n",
        "# -*- coding: utf-8 -*-\r\n",
        "\"\"\"\r\n",
        "\r\n",
        "\"\"\"\r\n",
        "\r\n",
        "##### >>>>>>>>  pip install -U gensim ####\r\n",
        "#######################################\r\n",
        "import os\r\n",
        "import gensim\r\n",
        "\r\n",
        "from gensim.models import KeyedVectors\r\n",
        "from gensim.scripts.glove2word2vec import glove2word2vec\r\n",
        "glove_input_file = 'glove.6B.50d.txt'\r\n",
        "word2vec_output_file = 'glove.6B.50d.txt.word2vec'\r\n",
        "glove2word2vec(glove_input_file, word2vec_output_file)\r\n",
        "\r\n",
        "#######################################\r\n",
        "\r\n",
        "\r\n",
        "######################################\r\n",
        "# load the Stanford GloVe model\r\n",
        "filename = 'glove.6B.50d.txt.word2vec'\r\n",
        "model = KeyedVectors.load_word2vec_format(filename, binary=False)\r\n",
        "\r\n",
        "print(model['man'])\r\n",
        "print(model['glad'])\r\n",
        "print(model['happy'])\r\n",
        "print (model.wv.similarity('glad', 'happy'))\r\n",
        "print (model.wv.similarity('king', 'woman'))\r\n",
        "print (model.wv.similarity('man', 'report'))\r\n",
        "\r\n",
        "# calculate: (king - man) + woman = ?\r\n",
        "result = model.most_similar(positive=['woman', 'king'], negative=['man'], topn=1)\r\n",
        "print(result)\r\n",
        "model.wv.most_similar(\"man\")\r\n"
      ],
      "execution_count": 12,
      "outputs": [
        {
          "output_type": "stream",
          "text": [
            "[-0.094386  0.43007  -0.17224  -0.45529   1.6447    0.40335  -0.37263\n",
            "  0.25071  -0.10588   0.10778  -0.10848   0.15181  -0.65396   0.55054\n",
            "  0.59591  -0.46278   0.11847   0.64448  -0.70948   0.23947  -0.82905\n",
            "  1.272     0.033021  0.2935    0.3911   -2.8094   -0.70745   0.4106\n",
            "  0.3894   -0.2913    2.6124   -0.34576  -0.16832   0.25154   0.31216\n",
            "  0.31639   0.12539  -0.012646  0.22297  -0.56585  -0.086264  0.62549\n",
            " -0.0576    0.29375   0.66005  -0.53115  -0.48233  -0.97925   0.53135\n",
            " -0.11725 ]\n",
            "[-0.049712  -0.26653   -0.20426   -0.36605    0.74033   -0.9297\n",
            " -0.39716    0.93877   -0.35901    0.060641  -0.15705    0.40281\n",
            " -0.68232   -0.2177     0.91216    0.42521    0.43335    0.30793\n",
            "  0.59221   -0.39727   -0.51952    0.79381    0.52592    0.058425\n",
            "  1.3621    -1.2471    -0.6159     0.48158    0.68242   -1.1488\n",
            "  1.2637     0.91603   -0.33208    0.26206   -0.30648   -0.51035\n",
            "  0.39492    0.66588    0.10188   -0.39422   -0.34186   -0.47241\n",
            " -0.13016    0.11317   -0.0037597  0.11631   -0.65888    0.019488\n",
            " -0.13611    0.76115  ]\n",
            "[ 0.092086  0.2571   -0.58693  -0.37029   1.0828   -0.55466  -0.78142\n",
            "  0.58696  -0.58714   0.46318  -0.11267   0.2606   -0.26928  -0.072466\n",
            "  1.247     0.30571   0.56731   0.30509  -0.050312 -0.64443  -0.54513\n",
            "  0.86429   0.20914   0.56334   1.1228   -1.0516   -0.78105   0.29656\n",
            "  0.7261   -0.61392   2.4225    1.0142   -0.17753   0.4147   -0.12966\n",
            " -0.47064   0.3807    0.16309  -0.323    -0.77899  -0.42473  -0.30826\n",
            " -0.42242   0.055069  0.38267   0.037415 -0.4302   -0.39442   0.10511\n",
            "  0.87286 ]\n",
            "0.8658772\n",
            "0.41133785\n",
            "0.35105526\n",
            "[('queen', 0.8523603677749634)]\n"
          ],
          "name": "stdout"
        },
        {
          "output_type": "stream",
          "text": [
            "/usr/local/lib/python3.6/dist-packages/ipykernel_launcher.py:29: DeprecationWarning: Call to deprecated `wv` (Attribute will be removed in 4.0.0, use self instead).\n",
            "/usr/local/lib/python3.6/dist-packages/ipykernel_launcher.py:30: DeprecationWarning: Call to deprecated `wv` (Attribute will be removed in 4.0.0, use self instead).\n",
            "/usr/local/lib/python3.6/dist-packages/ipykernel_launcher.py:31: DeprecationWarning: Call to deprecated `wv` (Attribute will be removed in 4.0.0, use self instead).\n",
            "/usr/local/lib/python3.6/dist-packages/ipykernel_launcher.py:36: DeprecationWarning: Call to deprecated `wv` (Attribute will be removed in 4.0.0, use self instead).\n"
          ],
          "name": "stderr"
        },
        {
          "output_type": "execute_result",
          "data": {
            "text/plain": [
              "[('woman', 0.8860337734222412),\n",
              " ('boy', 0.8564431071281433),\n",
              " ('another', 0.8452839851379395),\n",
              " ('old', 0.8372182846069336),\n",
              " ('one', 0.8276063203811646),\n",
              " ('who', 0.8244696259498596),\n",
              " ('him', 0.8194693922996521),\n",
              " ('turned', 0.8154467940330505),\n",
              " ('whose', 0.8119741678237915),\n",
              " ('himself', 0.807725727558136)]"
            ]
          },
          "metadata": {
            "tags": []
          },
          "execution_count": 12
        }
      ]
    },
    {
      "cell_type": "code",
      "metadata": {
        "colab": {
          "base_uri": "https://localhost:8080/",
          "height": 304
        },
        "id": "U_08hRvDAmPJ",
        "outputId": "757b022b-cac1-4158-97a2-b1c418d1b4e2"
      },
      "source": [
        "\r\n",
        "##################################\r\n",
        "# Visualize Word Embedding\r\n",
        "\r\n",
        "from gensim.models import Word2Vec\r\n",
        "from sklearn.decomposition import PCA\r\n",
        "from matplotlib import pyplot\r\n",
        "# define training data\r\n",
        "sentences = [['this', 'is', 'the', 'first', 'sentence', 'for', 'word2vec'],\r\n",
        "\t\t\t['this', 'is', 'the', 'second', 'sentence'],\r\n",
        "\t\t\t['yet', 'another', 'sentence'],\r\n",
        "\t\t\t['one', 'more', 'sentence'],\r\n",
        "\t\t\t['and', 'the', 'final', 'sentence']]\r\n",
        "# train model\r\n",
        "model = Word2Vec(sentences, min_count=1)\r\n",
        "# fit a 2d PCA model to the vectors\r\n",
        "X = model[model.wv.vocab]\r\n",
        "pca = PCA(n_components=2)\r\n",
        "result = pca.fit_transform(X)\r\n",
        "# create a scatter plot of the projection\r\n",
        "pyplot.scatter(result[:, 0], result[:, 1])\r\n",
        "words = list(model.wv.vocab)\r\n",
        "for i, word in enumerate(words):\r\n",
        "\tpyplot.annotate(word, xy=(result[i, 0], result[i, 1]))\r\n",
        "pyplot.show()"
      ],
      "execution_count": 13,
      "outputs": [
        {
          "output_type": "stream",
          "text": [
            "/usr/local/lib/python3.6/dist-packages/ipykernel_launcher.py:17: DeprecationWarning: Call to deprecated `__getitem__` (Method will be removed in 4.0.0, use self.wv.__getitem__() instead).\n"
          ],
          "name": "stderr"
        },
        {
          "output_type": "display_data",
          "data": {
            "image/png": "[encoded data removed]",
            "text/plain": [
              "<Figure size 432x288 with 1 Axes>"
            ]
          },
          "metadata": {
            "tags": [],
            "needs_background": "light"
          }
        }
      ]
    }
  ]
}